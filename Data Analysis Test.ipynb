{
 "cells": [
  {
   "cell_type": "markdown",
   "id": "68a7fed9",
   "metadata": {},
   "source": [
    "# Merge several Excel files into one."
   ]
  },
  {
   "cell_type": "code",
   "execution_count": 1,
   "id": "db6616eb",
   "metadata": {},
   "outputs": [],
   "source": [
    "import pandas as pd\n",
    "import os"
   ]
  },
  {
   "cell_type": "code",
   "execution_count": 2,
   "id": "036107d7",
   "metadata": {},
   "outputs": [],
   "source": [
    "files = [file for file in os.listdir('./All_Data')]\n",
    "\n",
    "complete_file = pd.DataFrame()\n",
    "\n",
    "for file in files:\n",
    "    df = pd.read_csv(\"./All_Data/\"+file)\n",
    "    complete_file = pd.concat([complete_file, df])\n",
    "    \n",
    "complete_file.to_csv(\"All_Data_Sales.csv\", index=False)"
   ]
  }
 ],
 "metadata": {
  "kernelspec": {
   "display_name": "Python 3 (ipykernel)",
   "language": "python",
   "name": "python3"
  },
  "language_info": {
   "codemirror_mode": {
    "name": "ipython",
    "version": 3
   },
   "file_extension": ".py",
   "mimetype": "text/x-python",
   "name": "python",
   "nbconvert_exporter": "python",
   "pygments_lexer": "ipython3",
   "version": "3.11.0"
  }
 },
 "nbformat": 4,
 "nbformat_minor": 5
}
