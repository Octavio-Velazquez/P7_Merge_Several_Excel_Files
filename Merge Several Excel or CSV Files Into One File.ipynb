{
 "cells": [
  {
   "cell_type": "markdown",
   "id": "609488a6",
   "metadata": {},
   "source": [
    "### Merge several Excel or CSV files into one file."
   ]
  },
  {
   "cell_type": "code",
   "execution_count": 1,
   "id": "5c580be6",
   "metadata": {},
   "outputs": [],
   "source": [
    "import pandas as pd\n",
    "import os"
   ]
  },
  {
   "cell_type": "code",
   "execution_count": 2,
   "id": "05dc4f83",
   "metadata": {},
   "outputs": [],
   "source": [
    "# Using the \"os\" library, we can access and see all the files in one folder.\n",
    "# With the listdir() method, all the files in the folder will appear as a list.\n",
    "\n",
    "files = os.listdir('./All_Data')"
   ]
  },
  {
   "cell_type": "code",
   "execution_count": 3,
   "id": "1e7cbfdf",
   "metadata": {},
   "outputs": [
    {
     "data": {
      "text/plain": [
       "['Sales_April_2019.csv',\n",
       " 'Sales_August_2019.csv',\n",
       " 'Sales_December_2019.csv',\n",
       " 'Sales_February_2019.csv',\n",
       " 'Sales_January_2019.csv',\n",
       " 'Sales_July_2019.csv',\n",
       " 'Sales_June_2019.csv',\n",
       " 'Sales_March_2019.csv',\n",
       " 'Sales_May_2019.csv',\n",
       " 'Sales_November_2019.csv',\n",
       " 'Sales_October_2019.csv',\n",
       " 'Sales_September_2019.csv']"
      ]
     },
     "execution_count": 3,
     "metadata": {},
     "output_type": "execute_result"
    }
   ],
   "source": [
    "files"
   ]
  },
  {
   "cell_type": "code",
   "execution_count": 4,
   "id": "2ae4f603",
   "metadata": {},
   "outputs": [],
   "source": [
    "# Create a variable that will store all the files combine.\n",
    "\n",
    "merged_file = pd.DataFrame()"
   ]
  },
  {
   "cell_type": "code",
   "execution_count": 5,
   "id": "8746e8cc",
   "metadata": {},
   "outputs": [],
   "source": [
    "# This for loop will read and concatenate all the files in the folder.\n",
    "\n",
    "for file in files:\n",
    "    df = pd.read_csv(\"./All_Data/\" + file)\n",
    "    merged_file = pd.concat([merged_file, df])"
   ]
  },
  {
   "cell_type": "code",
   "execution_count": 6,
   "id": "d8369cb0",
   "metadata": {},
   "outputs": [],
   "source": [
    "# Save the field in CSV format.\n",
    "\n",
    "merged_file.to_csv(\"All_Data_Sales.csv\", index=False)"
   ]
  },
  {
   "cell_type": "markdown",
   "id": "a6855f19",
   "metadata": {},
   "source": [
    "### If we want with an Excel format, we choose the method to_excel() and the .xlsx extension.\n",
    "\n",
    "#### merged_file.to_excel(\"All_Data_Sales.xlsx\", index=False)"
   ]
  }
 ],
 "metadata": {
  "kernelspec": {
   "display_name": "Python 3 (ipykernel)",
   "language": "python",
   "name": "python3"
  },
  "language_info": {
   "codemirror_mode": {
    "name": "ipython",
    "version": 3
   },
   "file_extension": ".py",
   "mimetype": "text/x-python",
   "name": "python",
   "nbconvert_exporter": "python",
   "pygments_lexer": "ipython3",
   "version": "3.11.0"
  }
 },
 "nbformat": 4,
 "nbformat_minor": 5
}
